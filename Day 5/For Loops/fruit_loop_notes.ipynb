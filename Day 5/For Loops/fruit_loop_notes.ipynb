{
 "cells": [
  {
   "metadata": {},
   "cell_type": "markdown",
   "source": [
    "# Python List and Loop Example Analysis\n",
    "A detailed breakdown of a simple Python program that demonstrates list operations and for loop usage."
   ],
   "id": "6cf773bee267301c"
  },
  {
   "metadata": {},
   "cell_type": "markdown",
   "source": [
    "## Code Components\n",
    "\n",
    "### List Declaration"
   ],
   "id": "2addd3544df2470e"
  },
  {
   "metadata": {},
   "cell_type": "code",
   "outputs": [],
   "execution_count": null,
   "source": [
    "* Creates a list named `fruits`\n",
    "* Contains three string elements\n",
    "* Uses square bracket notation `[]`\n",
    "* Elements are comma-separated\n",
    "* Each element is a string (text in quotes)"
   ],
   "id": "d3fc696f96ed02a6"
  },
  {
   "metadata": {},
   "cell_type": "markdown",
   "source": "## For Loop Structure",
   "id": "461b6d571426c54e"
  },
  {
   "metadata": {},
   "cell_type": "code",
   "outputs": [],
   "execution_count": null,
   "source": [
    "\n",
    "The loop demonstrates:\n",
    "1. **Iterator Variable**: `fruit` holds each element during iteration\n",
    "2. **Collection**: `fruits` is the list being iterated over\n",
    "3. **Loop Body**: Contains two print statements\n",
    "4. **String Concatenation**: Combines fruit name with \" pie\"\n",
    "5. **Indentation**: Shows which code belongs to the loop"
   ],
   "id": "d77fda4a4478dd40"
  },
  {
   "metadata": {},
   "cell_type": "markdown",
   "source": [
    "## Program Flow\n",
    "\n",
    "1. **List Creation**:\n",
    "   - List is created with three fruit names\n",
    "\n",
    "2. **Loop Execution**:\n",
    "   - First iteration: fruit = \"Apple\"\n",
    "     * Prints: \"Apple\"\n",
    "     * Prints: \"Apple pie\"\n",
    "   - Second iteration: fruit = \"Peach\"\n",
    "     * Prints: \"Peach\"\n",
    "     * Prints: \"Peach pie\"\n",
    "   - Third iteration: fruit = \"Pear\"\n",
    "     * Prints: \"Pear\"\n",
    "     * Prints: \"Pear pie\"\n",
    "\n",
    "3. **Final Print**:\n",
    "   - Prints entire list: `[\"Apple\", \"Peach\", \"Pear\"]`"
   ],
   "id": "eb428122633c357a"
  },
  {
   "metadata": {},
   "cell_type": "markdown",
   "source": [
    "## Key Concepts Demonstrated\n",
    "\n",
    "1. **List Data Structure**\n",
    "   - Ordered collection of items\n",
    "   - Items can be accessed by index\n",
    "   - Maintains insertion order\n",
    "\n",
    "2. **For Loop**\n",
    "   - Iterates over sequence elements\n",
    "   - Automatically handles iteration count\n",
    "   - Creates temporary variable for current element\n",
    "\n",
    "3. **String Operations**\n",
    "   - String concatenation using `+` operator\n",
    "   - String printing using `print()`\n",
    "\n",
    "4. **Print Function**\n",
    "   - Can print single values\n",
    "   - Can print entire data structures\n",
    "   - Adds automatic line breaks"
   ],
   "id": "3af82ebfec3a6102"
  },
  {
   "metadata": {},
   "cell_type": "markdown",
   "source": [
    "## Common Variations and Extensions\n",
    "\n",
    "1. **Alternative List Creations**:\n",
    "```python\n",
    "fruits = list()  # Empty list\n",
    "fruits = []      # Empty list\n",
    "fruits.append(\"Apple\")  # Adding elements\n",
    "```\n",
    "\n",
    "2. **Loop Variations**"
   ],
   "id": "c9722bf9a55550df"
  },
  {
   "metadata": {},
   "cell_type": "code",
   "outputs": [],
   "execution_count": null,
   "source": [
    "\n",
    "2. **Loop Variations**:"
   ],
   "id": "6d09e3e41767780d"
  },
  {
   "metadata": {},
   "cell_type": "code",
   "outputs": [],
   "execution_count": null,
   "source": [
    "\n",
    "3. **String Formatting Options**:"
   ],
   "id": "fbccaf9847e66a81"
  },
  {
   "metadata": {},
   "cell_type": "code",
   "outputs": [],
   "execution_count": null,
   "source": [
    "\n",
    "```"
   ],
   "id": "48daa0c7b15a8c7b"
  }
 ],
 "metadata": {
  "kernelspec": {
   "display_name": "Python 3",
   "language": "python",
   "name": "python3"
  },
  "language_info": {
   "codemirror_mode": {
    "name": "ipython",
    "version": 2
   },
   "file_extension": ".py",
   "mimetype": "text/x-python",
   "name": "python",
   "nbconvert_exporter": "python",
   "pygments_lexer": "ipython2",
   "version": "2.7.6"
  }
 },
 "nbformat": 4,
 "nbformat_minor": 5
}
